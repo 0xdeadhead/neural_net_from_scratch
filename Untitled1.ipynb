{
 "cells": [
  {
   "cell_type": "code",
   "execution_count": 12,
   "id": "780997c5-6382-4942-8b97-c431165f2c2b",
   "metadata": {},
   "outputs": [],
   "source": [
    "voices=['af_heart', 'af_alloy', 'af_aoede', 'af_bella', 'af_jessica', 'af_kore', 'af_nicole', 'af_nova', 'af_river', 'af_sarah', 'af_sky', 'am_adam', 'am_echo', 'am_eric', 'am_fenrir', 'am_liam', 'am_michael', 'am_onyx', 'am_puck', 'am_santa', 'bf_alice', 'bf_emma', 'bf_isabella', 'bf_lily', 'bm_daniel', 'bm_fable', 'bm_george', 'bm_lewis', 'jf_alpha', 'jf_gongitsune', 'jf_nezumi', 'jf_tebukuro', 'jm_kumo', 'hf_alpha', 'hf_beta', 'hm_omega', 'hm_psi', 'zf_xiaobei', 'zf_xiaoni', 'zf_xiaoxiao', 'zf_xiaoyi', 'zm_yunjian', 'zm_yunxi', 'zm_yunxia', 'zm_yunyang', 'if_sara', 'im_nicola', 'pf_dora', 'pm_alex', 'pm_santa']"
   ]
  },
  {
   "cell_type": "code",
   "execution_count": 16,
   "id": "b4591b62-15c4-4afe-89c8-a9eb754a2ac8",
   "metadata": {},
   "outputs": [
    {
     "name": "stdout",
     "output_type": "stream",
     "text": [
      "dir : Female/American\n",
      "dir : Female/American\n",
      "dir : Female/American\n",
      "dir : Female/American\n",
      "dir : Female/American\n",
      "dir : Female/American\n",
      "dir : Female/American\n",
      "dir : Female/American\n",
      "dir : Female/American\n",
      "dir : Female/American\n",
      "dir : Female/American\n",
      "dir : Male/American\n",
      "dir : Male/American\n",
      "dir : Male/American\n",
      "dir : Male/American\n",
      "dir : Male/American\n",
      "dir : Male/American\n",
      "dir : Male/American\n",
      "dir : Male/American\n",
      "dir : Male/American\n",
      "dir : Female/British\n",
      "dir : Female/British\n",
      "dir : Female/British\n",
      "dir : Female/British\n",
      "dir : Male/British\n",
      "dir : Male/British\n",
      "dir : Male/British\n",
      "dir : Male/British\n",
      "dir : Female/Japanese\n",
      "dir : Female/Japanese\n",
      "dir : Female/Japanese\n",
      "dir : Female/Japanese\n",
      "dir : Male/Japanese\n",
      "dir : Female/Indian\n",
      "dir : Female/Indian\n",
      "dir : Male/Indian\n",
      "dir : Male/Indian\n",
      "dir : Female/Chinese\n",
      "dir : Female/Chinese\n",
      "dir : Female/Chinese\n",
      "dir : Female/Chinese\n",
      "dir : Male/Chinese\n",
      "dir : Male/Chinese\n",
      "dir : Male/Chinese\n",
      "dir : Male/Chinese\n"
     ]
    },
    {
     "ename": "KeyError",
     "evalue": "'i'",
     "output_type": "error",
     "traceback": [
      "\u001b[0;31m---------------------------------------------------------------------------\u001b[0m",
      "\u001b[0;31mKeyError\u001b[0m                                  Traceback (most recent call last)",
      "Cell \u001b[0;32mIn[16], line 5\u001b[0m\n\u001b[1;32m      3\u001b[0m accent_mapping\u001b[38;5;241m=\u001b[39m{\u001b[38;5;124m'\u001b[39m\u001b[38;5;124mz\u001b[39m\u001b[38;5;124m'\u001b[39m:\u001b[38;5;124m'\u001b[39m\u001b[38;5;124mChinese\u001b[39m\u001b[38;5;124m'\u001b[39m,\u001b[38;5;124m'\u001b[39m\u001b[38;5;124mj\u001b[39m\u001b[38;5;124m'\u001b[39m:\u001b[38;5;124m'\u001b[39m\u001b[38;5;124mJapanese\u001b[39m\u001b[38;5;124m'\u001b[39m,\u001b[38;5;124m'\u001b[39m\u001b[38;5;124ma\u001b[39m\u001b[38;5;124m'\u001b[39m:\u001b[38;5;124m'\u001b[39m\u001b[38;5;124mAmerican\u001b[39m\u001b[38;5;124m'\u001b[39m,\u001b[38;5;124m'\u001b[39m\u001b[38;5;124mb\u001b[39m\u001b[38;5;124m'\u001b[39m:\u001b[38;5;124m'\u001b[39m\u001b[38;5;124mBritish\u001b[39m\u001b[38;5;124m'\u001b[39m,\u001b[38;5;124m'\u001b[39m\u001b[38;5;124mh\u001b[39m\u001b[38;5;124m'\u001b[39m:\u001b[38;5;124m'\u001b[39m\u001b[38;5;124mIndian\u001b[39m\u001b[38;5;124m'\u001b[39m}\n\u001b[1;32m      4\u001b[0m \u001b[38;5;28;01mfor\u001b[39;00m voice \u001b[38;5;129;01min\u001b[39;00m voices:\n\u001b[0;32m----> 5\u001b[0m     \u001b[38;5;28mprint\u001b[39m(\u001b[38;5;124mf\u001b[39m\u001b[38;5;124m'\u001b[39m\u001b[38;5;124mdir : \u001b[39m\u001b[38;5;132;01m{\u001b[39;00mgender_mapping[voice[\u001b[38;5;241m1\u001b[39m]]\u001b[38;5;132;01m}\u001b[39;00m\u001b[38;5;124m/\u001b[39m\u001b[38;5;132;01m{\u001b[39;00maccent_mapping[voice[\u001b[38;5;241m0\u001b[39m]]\u001b[38;5;132;01m}\u001b[39;00m\u001b[38;5;124m'\u001b[39m)\n",
      "\u001b[0;31mKeyError\u001b[0m: 'i'"
     ]
    }
   ],
   "source": [
    "import re\n",
    "gender_mapping={'f':'Female','m':'Male'}\n",
    "accent_mapping={'z':'Chinese','j':'Japanese','a':'American','b':'British','h':'Indian'}\n",
    "for voice in voices:\n",
    "    directory_path=''\n",
    "    print(f'dir : {gender_mapping[voice[1]]}/{accent_mapping[voice[0]]}')"
   ]
  },
  {
   "cell_type": "code",
   "execution_count": 17,
   "id": "b59aafb6-4b37-4c8b-ada1-d532698f0542",
   "metadata": {},
   "outputs": [],
   "source": [
    "import numpy as np"
   ]
  },
  {
   "cell_type": "code",
   "execution_count": 19,
   "id": "86d9ad72-3f0a-40fd-9dff-1882f82773c7",
   "metadata": {},
   "outputs": [],
   "source": [
    "a=np.array([[1,2,3]])\n",
    "b=np.array([[4,5,6]])\n",
    "c=np.array([[8,9,10]])"
   ]
  },
  {
   "cell_type": "code",
   "execution_count": 24,
   "id": "e08ed219-721c-4b94-9c14-5907375bd3fb",
   "metadata": {},
   "outputs": [
    {
     "data": {
      "text/plain": [
       "array([[ 1,  2,  3],\n",
       "       [ 4,  5,  6],\n",
       "       [ 8,  9, 10]])"
      ]
     },
     "execution_count": 24,
     "metadata": {},
     "output_type": "execute_result"
    }
   ],
   "source": [
    "np.concatenate([a,b,c],axis=0)"
   ]
  },
  {
   "cell_type": "code",
   "execution_count": null,
   "id": "14e0138f-de8c-4a79-8d67-f503d63358c0",
   "metadata": {},
   "outputs": [],
   "source": []
  }
 ],
 "metadata": {
  "kernelspec": {
   "display_name": "Python 3 (ipykernel)",
   "language": "python",
   "name": "python3"
  },
  "language_info": {
   "codemirror_mode": {
    "name": "ipython",
    "version": 3
   },
   "file_extension": ".py",
   "mimetype": "text/x-python",
   "name": "python",
   "nbconvert_exporter": "python",
   "pygments_lexer": "ipython3",
   "version": "3.9.6"
  }
 },
 "nbformat": 4,
 "nbformat_minor": 5
}
