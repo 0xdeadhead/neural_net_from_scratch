{
 "cells": [
  {
   "cell_type": "code",
   "execution_count": 1,
   "id": "6e69259c-b0a8-4c7b-b40f-2add0ab3c8e0",
   "metadata": {},
   "outputs": [],
   "source": [
    "import numpy as np"
   ]
  },
  {
   "cell_type": "code",
   "execution_count": 3,
   "id": "49c51982-796f-4f38-ba54-a423e29b16e0",
   "metadata": {},
   "outputs": [],
   "source": [
    "x=np.array([1,2,3])\n",
    "w=np.array([[1,2,3],[4,5,6],[7,8,9]])\n"
   ]
  },
  {
   "cell_type": "code",
   "execution_count": 17,
   "id": "c330d3de-2a16-4520-a708-1c2128546575",
   "metadata": {},
   "outputs": [],
   "source": [
    "a=np.dot(x,w.T)"
   ]
  },
  {
   "cell_type": "code",
   "execution_count": 18,
   "id": "024bf9b1-7d52-48dd-949d-afb35e316779",
   "metadata": {},
   "outputs": [],
   "source": [
    "b=np.dot(w,x.T)"
   ]
  },
  {
   "cell_type": "code",
   "execution_count": 19,
   "id": "6efce615-d0d9-41fc-80f0-374eed154fc1",
   "metadata": {},
   "outputs": [
    {
     "data": {
      "text/plain": [
       "(array([14, 32, 50]), array([14, 32, 50]))"
      ]
     },
     "execution_count": 19,
     "metadata": {},
     "output_type": "execute_result"
    }
   ],
   "source": [
    "a,b"
   ]
  },
  {
   "cell_type": "code",
   "execution_count": 22,
   "id": "35b9c257-6f0a-42d5-8750-84f103d94207",
   "metadata": {},
   "outputs": [
    {
     "data": {
      "text/plain": [
       "array([[1. , 2. , 3. ],\n",
       "       [0.1, 0.2, 0.3],\n",
       "       [2. , 4. , 6. ]])"
      ]
     },
     "execution_count": 22,
     "metadata": {},
     "output_type": "execute_result"
    }
   ],
   "source": [
    "input_batch=np.array([x,0.1*x,2*x])\n",
    "input_batch"
   ]
  },
  {
   "cell_type": "code",
   "execution_count": 25,
   "id": "c5b20cb7-0cca-4bc2-bf3b-558895684e7e",
   "metadata": {},
   "outputs": [
    {
     "data": {
      "text/plain": [
       "array([0, 1, 2])"
      ]
     },
     "execution_count": 25,
     "metadata": {},
     "output_type": "execute_result"
    }
   ],
   "source": [
    "bias=np.array(np.arange(0,w.shape[0]))\n",
    "bias"
   ]
  },
  {
   "cell_type": "code",
   "execution_count": 28,
   "id": "dd1733de-144c-41ae-b9f0-412f44d51f8d",
   "metadata": {},
   "outputs": [
    {
     "data": {
      "text/plain": [
       "array([[ 14. ,  32. ,  50. ],\n",
       "       [  1.4,   3.2,   5. ],\n",
       "       [ 28. ,  64. , 100. ]])"
      ]
     },
     "execution_count": 28,
     "metadata": {},
     "output_type": "execute_result"
    }
   ],
   "source": [
    "mat_mul=np.dot(input_batch,w.T)\n",
    "mat_mul"
   ]
  },
  {
   "cell_type": "code",
   "execution_count": 40,
   "id": "22472ebb-d326-43e3-819c-491025ea882d",
   "metadata": {},
   "outputs": [
    {
     "data": {
      "text/plain": [
       "array([[ 14. ,  33. ,  52. ],\n",
       "       [  1.4,   4.2,   7. ],\n",
       "       [ 28. ,  65. , 102. ]])"
      ]
     },
     "execution_count": 40,
     "metadata": {},
     "output_type": "execute_result"
    }
   ],
   "source": [
    "mat_mul+bias"
   ]
  },
  {
   "cell_type": "code",
   "execution_count": 32,
   "id": "1e947abd-21df-48d8-b5d1-2db70c3a27bf",
   "metadata": {},
   "outputs": [
    {
     "data": {
      "text/plain": [
       "array([1., 1., 1., 1.])"
      ]
     },
     "execution_count": 32,
     "metadata": {},
     "output_type": "execute_result"
    }
   ],
   "source": []
  },
  {
   "cell_type": "code",
   "execution_count": 48,
   "id": "7c994035-f776-42eb-84f2-d2fb00f17a46",
   "metadata": {},
   "outputs": [],
   "source": [
    "W1=np.random.random((3,4))\n",
    "W2=np.random.random((5,3))"
   ]
  },
  {
   "cell_type": "code",
   "execution_count": 49,
   "id": "2ab97fa3-b0ef-4b1e-8472-e1160a738755",
   "metadata": {},
   "outputs": [
    {
     "data": {
      "text/plain": [
       "(array([[0.15302176, 0.51558156, 0.88727965, 0.57139728],\n",
       "        [0.77097634, 0.45238079, 0.7861776 , 0.04079074],\n",
       "        [0.40032029, 0.00207928, 0.47978013, 0.14429186]]),\n",
       " array([[0.98769515, 0.84492836, 0.10074914],\n",
       "        [0.51640842, 0.22238939, 0.44735306],\n",
       "        [0.45197005, 0.21379977, 0.83552568],\n",
       "        [0.62146473, 0.69820406, 0.37055259],\n",
       "        [0.98309119, 0.22426941, 0.53430552]]))"
      ]
     },
     "execution_count": 49,
     "metadata": {},
     "output_type": "execute_result"
    }
   ],
   "source": [
    "W1,W2"
   ]
  },
  {
   "cell_type": "code",
   "execution_count": 53,
   "id": "ba675438-3caa-47ea-9d51-a57860b7c1b9",
   "metadata": {},
   "outputs": [],
   "source": [
    "x=np.random.randint(1,10,(20,4))"
   ]
  },
  {
   "cell_type": "code",
   "execution_count": 54,
   "id": "d21618b8-a0b1-42e7-9e61-02f8e3552f89",
   "metadata": {},
   "outputs": [],
   "source": [
    "output1=np.dot(x,W1.T)"
   ]
  },
  {
   "cell_type": "code",
   "execution_count": 55,
   "id": "f36b67b6-dfaa-4d1f-b5e4-318b95f8ec13",
   "metadata": {},
   "outputs": [
    {
     "data": {
      "text/plain": [
       "array([[ 9.23812659,  7.80388832,  5.14196809],\n",
       "       [ 9.30374639,  9.66648612,  4.71203074],\n",
       "       [ 6.87844518,  6.7475307 ,  2.67070441],\n",
       "       [ 9.21386235, 10.60620065,  5.58080297],\n",
       "       [13.90577553, 13.83249252,  7.78850719],\n",
       "       [10.68377927,  7.7386868 ,  3.05753435],\n",
       "       [12.53586691, 12.08674005,  5.20550693],\n",
       "       [12.53243088, 10.20423664,  5.91119086],\n",
       "       [10.33309323, 12.04113628,  4.96712742],\n",
       "       [ 8.93478377, 12.66415091,  4.86974012],\n",
       "       [12.09892941, 14.38912691,  7.48199601],\n",
       "       [ 4.8568087 ,  7.98112215,  4.11937657],\n",
       "       [10.61213704, 13.0539397 ,  5.57119265],\n",
       "       [ 6.32602505,  6.56256648,  2.93720209],\n",
       "       [13.95241818, 15.8392638 ,  6.94778029],\n",
       "       [ 7.370913  ,  6.91053975,  4.30877224],\n",
       "       [ 9.20472406,  9.9538083 ,  4.70486113],\n",
       "       [10.59956271, 10.51904395,  5.40093474],\n",
       "       [ 4.47323684,  3.66347141,  2.13032366],\n",
       "       [10.92528394, 10.46786497,  5.2712707 ]])"
      ]
     },
     "execution_count": 55,
     "metadata": {},
     "output_type": "execute_result"
    }
   ],
   "source": [
    "output1"
   ]
  },
  {
   "cell_type": "code",
   "execution_count": 56,
   "id": "7b3c120e-619b-4c32-a7a9-1e041a0b8885",
   "metadata": {},
   "outputs": [],
   "source": [
    "output2=np.dot(output1,W2.T)"
   ]
  },
  {
   "cell_type": "code",
   "execution_count": 57,
   "id": "ceb4a57a-b1ad-44de-b50d-04a6529bad0a",
   "metadata": {},
   "outputs": [
    {
     "data": {
      "text/plain": [
       "array([[16.23622832,  8.80642351, 10.14007253, 13.09524595, 13.57947625],\n",
       "       [17.83148657,  9.06219832, 10.20873   , 14.2771853 , 13.83199231],\n",
       "       [12.76405823,  6.24741405,  6.78291391,  9.97550085,  9.70237572],\n",
       "       [18.62422805,  9.61341191, 11.09489738, 15.19936384, 14.41856713],\n",
       "       [26.20681777, 13.74147171, 15.74987567, 21.18590298, 20.93429276],\n",
       "       [17.39899695,  8.60599278,  9.03792626, 13.17575182, 13.8723375 ],\n",
       "       [23.11849484, 11.49028946, 12.59931347, 18.1585242 , 17.8159175 ],\n",
       "       [21.5956176 , 11.38555614, 12.78489872, 17.1035103 , 17.76740244],\n",
       "       [20.8802775 , 10.23597698, 11.39480345, 16.66940518, 15.51279508],\n",
       "       [20.01576507,  9.60886353, 10.81464024, 16.1993094 , 14.22581793],\n",
       "       [24.86164006, 12.79507203, 14.79614568, 20.33807774, 19.11906372],\n",
       "       [11.95554654,  6.12582952,  7.34333912, 10.11723286,  8.76561306],\n",
       "       [22.07249311, 10.87554472, 12.24217205, 17.77380246, 16.33701681],\n",
       "       [12.08900343,  6.04022412,  6.7163569 ,  9.60179986,  9.26020572],\n",
       "       [27.86376196, 13.83574126, 15.49755509, 22.30449209, 20.98099915],\n",
       "       [13.55323119,  7.27077472,  8.40899364, 11.00235608, 11.09830311],\n",
       "       [17.97572702,  9.07175241, 10.2194139 , 14.41359921, 13.79525115],\n",
       "       [19.90111484, 10.22915191, 11.55227383, 15.93302393, 15.66518577],\n",
       "       [ 7.72819353,  4.07774116,  4.58495859,  6.12720649,  6.357448  ],\n",
       "       [20.16652202, 10.32796983, 11.58021039, 16.05166747, 15.90464135]])"
      ]
     },
     "execution_count": 57,
     "metadata": {},
     "output_type": "execute_result"
    }
   ],
   "source": [
    "output2"
   ]
  },
  {
   "cell_type": "code",
   "execution_count": null,
   "id": "f1544d36-0a4a-45f0-bb40-b3a7985e6610",
   "metadata": {},
   "outputs": [],
   "source": []
  }
 ],
 "metadata": {
  "kernelspec": {
   "display_name": "Python 3 (ipykernel)",
   "language": "python",
   "name": "python3"
  },
  "language_info": {
   "codemirror_mode": {
    "name": "ipython",
    "version": 3
   },
   "file_extension": ".py",
   "mimetype": "text/x-python",
   "name": "python",
   "nbconvert_exporter": "python",
   "pygments_lexer": "ipython3",
   "version": "3.9.6"
  }
 },
 "nbformat": 4,
 "nbformat_minor": 5
}
