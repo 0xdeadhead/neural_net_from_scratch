{
 "cells": [
  {
   "cell_type": "code",
   "execution_count": 1,
   "id": "fb762049-2119-4659-8697-cf30b6b5ec57",
   "metadata": {},
   "outputs": [],
   "source": [
    "import numpy as np\n",
    "from torch.utils.data import Dataset,DataLoader\n",
    "import torch"
   ]
  },
  {
   "cell_type": "code",
   "execution_count": 2,
   "id": "4e53d239-f2a9-4820-ad13-65ee25e9af17",
   "metadata": {},
   "outputs": [],
   "source": [
    "import pandas as pd"
   ]
  },
  {
   "cell_type": "code",
   "execution_count": 3,
   "id": "30e6ab4a-bb3e-43a2-8b7b-4c7ae07b9edd",
   "metadata": {},
   "outputs": [],
   "source": [
    "train_data=pd.read_csv(\"./datasets/mnist_fashion/fashion-mnist_train.csv\").values\n",
    "test_data=pd.read_csv(\"./datasets/mnist_fashion/fashion-mnist_test.csv\").values"
   ]
  },
  {
   "cell_type": "code",
   "execution_count": 4,
   "id": "ef049a75-a1ab-4a88-85a4-24d335d13d8e",
   "metadata": {},
   "outputs": [],
   "source": [
    "class MNISTFashionDataSet(Dataset):\n",
    "    def __init__(self,dataframe):\n",
    "        self.data=dataframe\n",
    "    def __getitem__(self,idx):\n",
    "        return torch.tensor(self.data[idx,1:]/255,dtype=torch.float32),torch.tensor(self.data[idx,0],dtype=torch.long)\n",
    "    def __len__(self):\n",
    "        return self.data.shape[0]"
   ]
  },
  {
   "cell_type": "code",
   "execution_count": 5,
   "id": "a7cf257a-f17e-4257-97c9-e4c2fb67942a",
   "metadata": {},
   "outputs": [],
   "source": [
    "train_data_loader=DataLoader(dataset=MNISTFashionDataSet(dataframe=train_data),shuffle=True,batch_size=100,pin_memory=True)\n",
    "test_data_loader=DataLoader(dataset=MNISTFashionDataSet(dataframe=test_data),shuffle=False,batch_size=100,pin_memory=True)"
   ]
  },
  {
   "cell_type": "code",
   "execution_count": 6,
   "id": "5b01b930-f304-404c-8553-1ee798f1c800",
   "metadata": {},
   "outputs": [],
   "source": [
    "from torch.nn import Sequential,Linear,ReLU,Module,CrossEntropyLoss,Dropout,BatchNorm1d\n",
    "from torch.optim import AdamW"
   ]
  },
  {
   "cell_type": "code",
   "execution_count": 23,
   "id": "8e92d6c5-a27c-4d26-a00d-53290005a024",
   "metadata": {},
   "outputs": [],
   "source": [
    "class ClothingClassifier(Module):\n",
    "    def __init__(self,inputs,outputs):\n",
    "        super().__init__()\n",
    "        self.network=Sequential(Linear(784,256),\n",
    "                                BatchNorm1d(256),\n",
    "                                ReLU(),\n",
    "                                Dropout(p=0.3),\n",
    "                                Linear(256,128),\n",
    "                                BatchNorm1d(128),\n",
    "                                ReLU(),\n",
    "                                Dropout(p=0.3),\n",
    "                                Linear(128,10))\n",
    "    def forward(self,inputs):\n",
    "        return self.network(inputs)"
   ]
  },
  {
   "cell_type": "code",
   "execution_count": 24,
   "id": "2d999dde-f9cd-4718-aa38-e36aa49f20fc",
   "metadata": {},
   "outputs": [],
   "source": [
    "device = torch.device(\"mps\" if torch.backends.mps.is_available() else \"cpu\")"
   ]
  },
  {
   "cell_type": "code",
   "execution_count": 25,
   "id": "d2bbfa53-0b32-45e4-8b84-748b1a98cefb",
   "metadata": {},
   "outputs": [
    {
     "name": "stdout",
     "output_type": "stream",
     "text": [
      "epoch 64\tLoss:0.12463397836933533 Acc:0.9536342620849609\n",
      "epoch 65\tLoss:0.12656917424872519 Acc:0.9531012773513794\n",
      "epoch 66\tLoss:0.12409327171742916 Acc:0.9528512358665466\n",
      "epoch 67\tLoss:0.12075381949543953 Acc:0.9557172656059265\n",
      "epoch 68\tLoss:0.12449865966724853 Acc:0.952850878238678\n",
      "epoch 69\tLoss:0.12282876986389359 Acc:0.9538344144821167\n",
      "epoch 70\tLoss:0.12096916068345308 Acc:0.954684317111969\n",
      "epoch 71\tLoss:0.1194280090307196 Acc:0.9550507664680481\n",
      "epoch 72\tLoss:0.11906139937229454 Acc:0.9549003839492798\n",
      "epoch 73\tLoss:0.11697267076931894 Acc:0.9569345116615295\n",
      "epoch 74\tLoss:0.11527265465197464 Acc:0.9560506343841553\n",
      "epoch 75\tLoss:0.1155059574296077 Acc:0.9569829106330872\n",
      "epoch 76\tLoss:0.11571676112090548 Acc:0.9568341970443726\n",
      "epoch 77\tLoss:0.11682962307706475 Acc:0.9561675786972046\n",
      "epoch 78\tLoss:0.11016222697372238 Acc:0.9587010741233826\n",
      "epoch 79\tLoss:0.11285284116243323 Acc:0.9574839472770691\n",
      "epoch 80\tLoss:0.11084490816108883 Acc:0.9589670896530151\n",
      "epoch 81\tLoss:0.10869173698748151 Acc:0.9596174955368042\n",
      "epoch 82\tLoss:0.11055340231706699 Acc:0.9587339162826538\n",
      "epoch 83\tLoss:0.11060575081656376 Acc:0.9585840106010437\n",
      "epoch 84\tLoss:0.110286509723713 Acc:0.9593010544776917\n",
      "epoch 85\tLoss:0.10738089983661969 Acc:0.9600673317909241\n",
      "epoch 86\tLoss:0.10682749568795165 Acc:0.9599840044975281\n",
      "epoch 87\tLoss:0.10716164548726131 Acc:0.959667444229126\n",
      "epoch 88\tLoss:0.10548887541207175 Acc:0.959967851638794\n",
      "epoch 89\tLoss:0.10430674045967558 Acc:0.9600335955619812\n",
      "epoch 90\tLoss:0.10658045422906677 Acc:0.9609668850898743\n",
      "epoch 91\tLoss:0.1057147973186026 Acc:0.9605668187141418\n",
      "epoch 92\tLoss:0.10144668946353098 Acc:0.9630002975463867\n",
      "epoch 93\tLoss:0.10519100468916198 Acc:0.9609839916229248\n",
      "epoch 94\tLoss:0.10615673768334091 Acc:0.9615000486373901\n",
      "epoch 95\tLoss:0.10187665237269054 Acc:0.9626168608665466\n",
      "epoch 96\tLoss:0.09876677076021831 Acc:0.9632835984230042\n",
      "epoch 97\tLoss:0.10123624136671423 Acc:0.9621005058288574\n",
      "epoch 98\tLoss:0.10072136184200645 Acc:0.962300717830658\n",
      "epoch 99\tLoss:0.09911790099926293 Acc:0.9632670879364014\n"
     ]
    }
   ],
   "source": [
    "epochs=100\n",
    "classifier=ClothingClassifier(784,10).to().to(device)\n",
    "criterion=CrossEntropyLoss()\n",
    "optimizer=AdamW(params=classifier.parameters(),weight_decay=1e-4)\n",
    "for epoch in range(epochs):\n",
    "    epoch_total_loss=0\n",
    "    epoch_acc=0\n",
    "    for batch in train_data_loader:\n",
    "        batch[0]=batch[0].to(device)\n",
    "        batch[1]=batch[1].to(device)\n",
    "        y_pred=classifier.forward(batch[0])\n",
    "        loss=criterion(y_pred,batch[1])\n",
    "        epoch_acc+=(torch.argmax(y_pred,dim=1)==batch[1]).float().mean()\n",
    "        epoch_total_loss+=loss.item()\n",
    "        optimizer.zero_grad()\n",
    "        loss.backward()\n",
    "        optimizer.step()\n",
    "    print(f\"epoch {epoch}\\tLoss:{epoch_total_loss/len(train_data_loader)} Acc:{epoch_acc/len(train_data_loader)}\")"
   ]
  },
  {
   "cell_type": "code",
   "execution_count": 28,
   "id": "d88bdbf5-ff4f-4977-9b40-69a0b975c664",
   "metadata": {},
   "outputs": [
    {
     "data": {
      "text/plain": [
       "ClothingClassifier(\n",
       "  (network): Sequential(\n",
       "    (0): Linear(in_features=784, out_features=256, bias=True)\n",
       "    (1): BatchNorm1d(256, eps=1e-05, momentum=0.1, affine=True, track_running_stats=True)\n",
       "    (2): ReLU()\n",
       "    (3): Dropout(p=0.3, inplace=False)\n",
       "    (4): Linear(in_features=256, out_features=128, bias=True)\n",
       "    (5): BatchNorm1d(128, eps=1e-05, momentum=0.1, affine=True, track_running_stats=True)\n",
       "    (6): ReLU()\n",
       "    (7): Dropout(p=0.3, inplace=False)\n",
       "    (8): Linear(in_features=128, out_features=10, bias=True)\n",
       "  )\n",
       ")"
      ]
     },
     "execution_count": 28,
     "metadata": {},
     "output_type": "execute_result"
    }
   ],
   "source": [
    "classifier.eval()"
   ]
  },
  {
   "cell_type": "code",
   "execution_count": 29,
   "id": "63ef75b7-a50b-4fac-997f-564117d376bb",
   "metadata": {},
   "outputs": [
    {
     "name": "stdout",
     "output_type": "stream",
     "text": [
      "Test Accuracy: 0.9065000039339065\n"
     ]
    }
   ],
   "source": [
    "acc_sum=0\n",
    "for data in test_data_loader:\n",
    "    with torch.no_grad():\n",
    "        pred=classifier(data[0].to(device))\n",
    "        acc_sum+=(torch.argmax(pred,dim=1)==(data[1].to(device))).float().mean().item()\n",
    "print(f\"Test Accuracy: {acc_sum/len(test_data_loader)}\")"
   ]
  },
  {
   "cell_type": "code",
   "execution_count": 7,
   "id": "08dddc8d-8a76-4fa1-b3a9-9fd4d07ba322",
   "metadata": {},
   "outputs": [],
   "source": [
    "class ClothingClassifier(Module):\n",
    "    def __init__(self,inputs,outputs,num_hidden_layers,num_neurons_layer):\n",
    "        super().__init__()\n",
    "        layers=[Linear(inputs,num_neurons_layer)]\n",
    "        layers.append(ReLU())\n",
    "        for i in range(num_hidden_layers):\n",
    "            layers.append(num_neurons_layer,num_neurons_layer)\n",
    "            layers.append(ReLU())\n",
    "        layers.append(Linear(num_neurons_layer,outputs))\n",
    "        self.network=Sequential(*layers)\n",
    "        # self.network=Sequential(Linear(784,256),\n",
    "        #                         BatchNorm1d(256),\n",
    "        #                         ReLU(),\n",
    "        #                         Dropout(p=0.3),\n",
    "        #                         Linear(256,128),\n",
    "        #                         BatchNorm1d(128),\n",
    "        #                         ReLU(),\n",
    "        #                         Dropout(p=0.3),\n",
    "        #                         Linear(128,10))\n",
    "    def forward(self,inputs):\n",
    "        return self.network(inputs)"
   ]
  },
  {
   "cell_type": "code",
   "execution_count": 2,
   "id": "2f779fe7-68e2-48b1-8b0e-4c13ef3ba97c",
   "metadata": {},
   "outputs": [],
   "source": []
  },
  {
   "cell_type": "code",
   "execution_count": null,
   "id": "a4de4387-aaf7-4b57-8922-5366e9944ca1",
   "metadata": {},
   "outputs": [],
   "source": []
  },
  {
   "cell_type": "code",
   "execution_count": null,
   "id": "ca2e05ad-c3ca-4165-bf82-c2f8e915da34",
   "metadata": {},
   "outputs": [],
   "source": []
  }
 ],
 "metadata": {
  "kernelspec": {
   "display_name": "Python 3 (ipykernel)",
   "language": "python",
   "name": "python3"
  },
  "language_info": {
   "codemirror_mode": {
    "name": "ipython",
    "version": 3
   },
   "file_extension": ".py",
   "mimetype": "text/x-python",
   "name": "python",
   "nbconvert_exporter": "python",
   "pygments_lexer": "ipython3",
   "version": "3.9.6"
  }
 },
 "nbformat": 4,
 "nbformat_minor": 5
}
