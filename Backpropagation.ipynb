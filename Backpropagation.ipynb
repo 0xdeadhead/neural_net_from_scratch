{
 "cells": [
  {
   "cell_type": "code",
   "execution_count": 1,
   "id": "bb5ce20d-01e4-43a1-8030-528382fa19c4",
   "metadata": {},
   "outputs": [],
   "source": [
    "import numpy as np"
   ]
  },
  {
   "cell_type": "code",
   "execution_count": null,
   "id": "3e289a9f-0c4c-4e09-84e1-534376beb30e",
   "metadata": {},
   "outputs": [],
   "source": [
    "X=np.array([9.2,3.5,2.9])\n",
    "true_w=np.array([2.55,3.21,9.52])\n",
    "true_b=0.35\n",
    "Y=true_w@X+true_b\n",
    "Y"
   ]
  },
  {
   "cell_type": "code",
   "execution_count": 4,
   "id": "e4a79ab0-028d-4472-b1ca-b91c6918e085",
   "metadata": {},
   "outputs": [],
   "source": [
    "def relu(num):\n",
    "    return np.where(num>0,num,0.25*num)"
   ]
  },
  {
   "cell_type": "code",
   "execution_count": 6,
   "id": "6422d215-ae72-4d84-bcc6-b6b6a764b68c",
   "metadata": {},
   "outputs": [],
   "source": [
    "def mean_squared_error(y,y_pred):\n",
    "    return np.mean(np.pow(y_pred-y,2))\n",
    "def relu_derivative(num):\n",
    "    return np.where(num>0,1,0.25)"
   ]
  },
  {
   "cell_type": "code",
   "execution_count": 8,
   "id": "356ba281-15fb-4530-ab48-2d057a2cebc4",
   "metadata": {},
   "outputs": [
    {
     "name": "stdout",
     "output_type": "stream",
     "text": [
      "loss : 2252.23844049971 \n",
      " W:[1.94369833 0.97921538 1.38371269] \n",
      " b : -0.03728100007428779 \n",
      "loss : 18.902644891900703 \n",
      " W:[4.88153989 2.09687249 2.30977144] \n",
      " b : 0.2820496037494006 \n",
      "loss : 0.15864660574304532 \n",
      " W:[5.15068251 2.19926371 2.39460987] \n",
      " b : 0.31130423624384684 \n",
      "loss : 0.0013314933258139138 \n",
      " W:[5.1753393  2.20864401 2.40238212] \n",
      " b : 0.31398432237445045 \n",
      "loss : 1.1174991537776957e-05 \n",
      " W:[5.17759817 2.20950336 2.40309416] \n",
      " b : 0.3142298514088287 \n",
      "loss : 9.378975730202455e-08 \n",
      " W:[5.17780511 2.20958209 2.40315939] \n",
      " b : 0.3142523449048527 \n",
      "loss : 7.871610944228664e-10 \n",
      " W:[5.17782407 2.2095893  2.40316536] \n",
      " b : 0.314254405587267 \n",
      "loss : 6.606505962730607e-12 \n",
      " W:[5.1778258  2.20958996 2.40316591] \n",
      " b : 0.3142545943712607 \n",
      "loss : 5.5447253996041895e-14 \n",
      " W:[5.17782596 2.20959002 2.40316596] \n",
      " b : 0.31425461166620916 \n",
      "loss : 4.653594307754639e-16 \n",
      " W:[5.17782598 2.20959003 2.40316597] \n",
      " b : 0.31425461325064036 \n"
     ]
    }
   ],
   "source": [
    "W=np.random.normal(loc=1,scale=1,size=(3))\n",
    "epochs=100\n",
    "i=0\n",
    "b=np.random.randn()\n",
    "learning_rate=0.001\n",
    "while i<epochs:\n",
    "    #forward pass\n",
    "    Z=(W@X)+b\n",
    "    A=relu(Z)\n",
    "    L=np.pow(A-Y,2)\n",
    "    # gradient calculation and backpass\n",
    "    dL_dA=2*(A-Y)\n",
    "    dA_dZ=relu_derivative(Z)\n",
    "    dZ_dW=X\n",
    "    dL_dW=dL_dA*dA_dZ*dZ_dW\n",
    "    dL_dB=dL_dA*dA_dZ\n",
    "    # print(f'Z:{Z}\\ndL_dW: {dL_dW} \\n dL_dB: {dL_dB}')\n",
    "    W-=learning_rate*dL_dW\n",
    "    b-=learning_rate*dL_dB\n",
    "    if i%10==0:\n",
    "        print(f'loss : {L} \\n W:{W} \\n b : {b} ')\n",
    "    i+=1\n"
   ]
  },
  {
   "cell_type": "code",
   "execution_count": 36,
   "id": "0567be6b-17d8-4e77-a723-39d9fd0074bd",
   "metadata": {},
   "outputs": [
    {
     "data": {
      "text/plain": [
       "(array([[0.1, 0.2, 0.3, 0.4],\n",
       "        [0.5, 0.6, 0.7, 0.8],\n",
       "        [0.9, 1. , 1.1, 1.2]]),\n",
       " array([0.1, 0.2, 0.3]))"
      ]
     },
     "execution_count": 36,
     "metadata": {},
     "output_type": "execute_result"
    }
   ],
   "source": [
    "## BackPropagation for layer\n",
    "W=np.array([\n",
    "    [0.1, 0.2, 0.3, 0.4],\n",
    "    [0.5, 0.6, 0.7, 0.8],\n",
    "    [0.9, 1.0, 1.1, 1.2]\n",
    "])\n",
    "B= np.array([0.1, 0.2, 0.3])\n",
    "X=np.array([1,2,3,4])\n",
    "def relu(arr):\n",
    "    return np.maximum(arr,0)\n",
    "def relu_derivative(arr):\n",
    "    return np.where(arr>0,1,0)\n",
    "W,B"
   ]
  },
  {
   "cell_type": "code",
   "execution_count": null,
   "id": "a1e78d6c-51b7-418d-b9ce-b06016dcb8ea",
   "metadata": {},
   "outputs": [],
   "source": [
    "epochs=100\n",
    "learning_rate=0.001\n",
    "for i in range(epochs):\n",
    "    # forward pass\n",
    "    Z=np.dot(W,X)+B\n",
    "    A=relu(Z)\n",
    "    Y=np.sum(A)\n",
    "    L=Y**2\n",
    "    #back pass\n",
    "    dL_dY=2*Y\n",
    "    dY_dA=np.ones_like(A)\n",
    "    dA_dZ=relu_derivative(Z)\n",
    "    dL_dZ=dL_dY*dY_dA*dA_dZ\n",
    "    dL_dW=np.outer(dL_dZ,X)\n",
    "    \n",
    "    W-=learning_rate*dL_dW\n",
    "    B-=learning_rate*dL_dZ\n",
    "    print(f\"Loss : {L}\")\n",
    "    \n",
    "    "
   ]
  },
  {
   "cell_type": "code",
   "execution_count": 2,
   "id": "a0222cf7-1861-47a8-807b-9b8efb55e265",
   "metadata": {},
   "outputs": [],
   "source": [
    "A = np.array([[1, 2], [3, 4]])\n",
    "B = np.array([[5, 6], [7, 8]])\n",
    "\n",
    "outer_products = A[:, :, None] * B[:, None, :]"
   ]
  },
  {
   "cell_type": "code",
   "execution_count": 5,
   "id": "316d2ddb-697e-4a69-85b3-ae8740703acf",
   "metadata": {},
   "outputs": [
    {
     "data": {
      "text/plain": [
       "array([[[1],\n",
       "        [2]],\n",
       "\n",
       "       [[3],\n",
       "        [4]]])"
      ]
     },
     "execution_count": 5,
     "metadata": {},
     "output_type": "execute_result"
    }
   ],
   "source": [
    "A[:,:,None]"
   ]
  },
  {
   "cell_type": "code",
   "execution_count": 4,
   "id": "d26b5f8d-af26-4f7b-9ffb-8855c8367c56",
   "metadata": {},
   "outputs": [
    {
     "data": {
      "text/plain": [
       "array([[26, 30],\n",
       "       [38, 44]])"
      ]
     },
     "execution_count": 4,
     "metadata": {},
     "output_type": "execute_result"
    }
   ],
   "source": [
    "np.sum(outer_products,axis=0)"
   ]
  },
  {
   "cell_type": "code",
   "execution_count": 2,
   "id": "d4f3b0ab-ca7b-45a8-97d5-5b7eddfef3ea",
   "metadata": {},
   "outputs": [],
   "source": [
    "class DenseLayer:\n",
    "    def __init__(self,num_of_inputs,num_of_neurons):\n",
    "        self.W=np.random.randn(num_of_neurons,num_of_inputs)\n",
    "        self.B=np.random.randn(num_of_neurons).reshape((1,num_of_neurons))\n",
    "    \n",
    "    def forward(self,inputs):\n",
    "        self.inputs=inputs\n",
    "        self.output=np.dot(inputs,self.W.T)+self.B\n",
    "        return self.output\n",
    "    \n",
    "    def backward(self,d_outputs):\n",
    "        self.d_weights=np.dot(self.inputs.T,d_outputs)\n",
    "        self.d_biases=np.sum(d_outputs,axis=0,keepdims=True)\n",
    "        self.d_inputs=np.dot(d_outputs,self.W)\n"
   ]
  },
  {
   "cell_type": "code",
   "execution_count": null,
   "id": "f70a50f3-3532-4d0c-9847-eae3511ae82d",
   "metadata": {},
   "outputs": [],
   "source": []
  }
 ],
 "metadata": {
  "kernelspec": {
   "display_name": "Python 3 (ipykernel)",
   "language": "python",
   "name": "python3"
  },
  "language_info": {
   "codemirror_mode": {
    "name": "ipython",
    "version": 3
   },
   "file_extension": ".py",
   "mimetype": "text/x-python",
   "name": "python",
   "nbconvert_exporter": "python",
   "pygments_lexer": "ipython3",
   "version": "3.9.6"
  }
 },
 "nbformat": 4,
 "nbformat_minor": 5
}
