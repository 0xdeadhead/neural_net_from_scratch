{
 "cells": [
  {
   "cell_type": "code",
   "execution_count": 123,
   "id": "9dd5a687-ddfd-40c3-8d5a-5342b5a6f66f",
   "metadata": {},
   "outputs": [],
   "source": [
    "import torch\n",
    "from torch.nn import Module\n",
    "import pandas as pd\n",
    "from torch.utils.data import Dataset,DataLoader\n",
    "import re"
   ]
  },
  {
   "cell_type": "code",
   "execution_count": 171,
   "id": "5334b766-0c9e-4d20-80ca-18711a118d94",
   "metadata": {},
   "outputs": [
    {
     "data": {
      "text/html": [
       "<div>\n",
       "<style scoped>\n",
       "    .dataframe tbody tr th:only-of-type {\n",
       "        vertical-align: middle;\n",
       "    }\n",
       "\n",
       "    .dataframe tbody tr th {\n",
       "        vertical-align: top;\n",
       "    }\n",
       "\n",
       "    .dataframe thead th {\n",
       "        text-align: right;\n",
       "    }\n",
       "</style>\n",
       "<table border=\"1\" class=\"dataframe\">\n",
       "  <thead>\n",
       "    <tr style=\"text-align: right;\">\n",
       "      <th></th>\n",
       "      <th>question</th>\n",
       "      <th>answer</th>\n",
       "    </tr>\n",
       "  </thead>\n",
       "  <tbody>\n",
       "    <tr>\n",
       "      <th>0</th>\n",
       "      <td>What is the capital of France?</td>\n",
       "      <td>Paris</td>\n",
       "    </tr>\n",
       "    <tr>\n",
       "      <th>1</th>\n",
       "      <td>What is the capital of Germany?</td>\n",
       "      <td>Berlin</td>\n",
       "    </tr>\n",
       "    <tr>\n",
       "      <th>2</th>\n",
       "      <td>Who wrote 'To Kill a Mockingbird'?</td>\n",
       "      <td>Harper-Lee</td>\n",
       "    </tr>\n",
       "    <tr>\n",
       "      <th>3</th>\n",
       "      <td>What is the largest planet in our solar system?</td>\n",
       "      <td>Jupiter</td>\n",
       "    </tr>\n",
       "    <tr>\n",
       "      <th>4</th>\n",
       "      <td>What is the boiling point of water in Celsius?</td>\n",
       "      <td>100</td>\n",
       "    </tr>\n",
       "    <tr>\n",
       "      <th>5</th>\n",
       "      <td>Who painted the Mona Lisa?</td>\n",
       "      <td>Leonardo-da-Vinci</td>\n",
       "    </tr>\n",
       "    <tr>\n",
       "      <th>6</th>\n",
       "      <td>What is the square root of 64?</td>\n",
       "      <td>8</td>\n",
       "    </tr>\n",
       "    <tr>\n",
       "      <th>7</th>\n",
       "      <td>What is the chemical symbol for gold?</td>\n",
       "      <td>Au</td>\n",
       "    </tr>\n",
       "    <tr>\n",
       "      <th>8</th>\n",
       "      <td>Which year did World War II end?</td>\n",
       "      <td>1945</td>\n",
       "    </tr>\n",
       "    <tr>\n",
       "      <th>9</th>\n",
       "      <td>What is the longest river in the world?</td>\n",
       "      <td>Nile</td>\n",
       "    </tr>\n",
       "  </tbody>\n",
       "</table>\n",
       "</div>"
      ],
      "text/plain": [
       "                                          question             answer\n",
       "0                   What is the capital of France?              Paris\n",
       "1                  What is the capital of Germany?             Berlin\n",
       "2               Who wrote 'To Kill a Mockingbird'?         Harper-Lee\n",
       "3  What is the largest planet in our solar system?            Jupiter\n",
       "4   What is the boiling point of water in Celsius?                100\n",
       "5                       Who painted the Mona Lisa?  Leonardo-da-Vinci\n",
       "6                   What is the square root of 64?                  8\n",
       "7            What is the chemical symbol for gold?                 Au\n",
       "8                 Which year did World War II end?               1945\n",
       "9          What is the longest river in the world?               Nile"
      ]
     },
     "execution_count": 171,
     "metadata": {},
     "output_type": "execute_result"
    }
   ],
   "source": [
    "df=pd.read_csv(\"./100_Unique_QA_Dataset.csv\")\n",
    "df.head(10)"
   ]
  },
  {
   "cell_type": "code",
   "execution_count": 125,
   "id": "a6565409-e541-42e5-8a43-aec266764218",
   "metadata": {},
   "outputs": [],
   "source": [
    "import spacy\n",
    "nlp=spacy.load('en_core_web_sm')\n",
    "import numpy as np"
   ]
  },
  {
   "cell_type": "code",
   "execution_count": 228,
   "id": "52cac830-bace-4892-8120-4166a51938a2",
   "metadata": {},
   "outputs": [
    {
     "data": {
      "text/plain": [
       "(90, 2)"
      ]
     },
     "execution_count": 228,
     "metadata": {},
     "output_type": "execute_result"
    }
   ],
   "source": [
    "vocab={'<UNKNOWN>':0}\n",
    "def preprocess(text:str):\n",
    "    text=text.lower().replace('?','').replace(\"'\",\"\")\n",
    "    # doc=nlp(text)\n",
    "    vectorized_text=[]\n",
    "    for token in text.split(\" \"):\n",
    "        if token not in vocab.keys():\n",
    "            vocab[token]=len(vocab)\n",
    "        vectorized_text.append(vocab[token])\n",
    "    return np.array(vectorized_text)\n",
    "X=df['question'].apply(preprocess).values\n",
    "Y=df['answer'].apply(preprocess).values\n",
    "data=np.concatenate((X.reshape(-1,1),Y.reshape(-1,1)),axis=1)\n",
    "data.shape"
   ]
  },
  {
   "cell_type": "code",
   "execution_count": 242,
   "id": "2e8bf99d-677b-4d7f-8e50-78da7cc5fc46",
   "metadata": {},
   "outputs": [],
   "source": [
    "class QADataSet(Dataset):\n",
    "    def __init__(self,data):\n",
    "        self.data=data\n",
    "    def __getitem__(self,idx):\n",
    "        return torch.tensor(self.data[idx][0],dtype=torch.int),torch.tensor(self.data[idx][1],dtype=torch.long)\n",
    "    def __len__(self):\n",
    "        return self.data.shape[0]"
   ]
  },
  {
   "cell_type": "code",
   "execution_count": 243,
   "id": "abea51d3-21c5-49ae-9705-69b4294c4058",
   "metadata": {},
   "outputs": [],
   "source": [
    "dataset=QADataSet(data=data)\n",
    "data_loader=DataLoader(dataset=dataset,batch_size=1,shuffle=True)"
   ]
  },
  {
   "cell_type": "code",
   "execution_count": 244,
   "id": "2b562667-9e9d-4e39-80fd-33a402e0cd60",
   "metadata": {},
   "outputs": [],
   "source": [
    "embedding_layer=nn.Embedding(len(vocab),4)"
   ]
  },
  {
   "cell_type": "code",
   "execution_count": 245,
   "id": "9c344e51-d833-4c98-ae47-b7de4c04d278",
   "metadata": {},
   "outputs": [],
   "source": [
    "embeddings=embedding_layer(torch.tensor(data[1][0]))\n",
    "rnn=nn.RNN(4,64)"
   ]
  },
  {
   "cell_type": "code",
   "execution_count": 246,
   "id": "36f98c37-b59e-49a3-b104-ae6515a43eab",
   "metadata": {},
   "outputs": [],
   "source": [
    "hidden_states,output=rnn(embeddings)"
   ]
  },
  {
   "cell_type": "code",
   "execution_count": 247,
   "id": "a4cd65a9-bf44-47c2-a126-e07699c15fb5",
   "metadata": {},
   "outputs": [],
   "source": [
    "fc=nn.Linear(64,len(vocab))"
   ]
  },
  {
   "cell_type": "code",
   "execution_count": 248,
   "id": "bae16b2f-e88c-470f-8842-f9571dc732f4",
   "metadata": {},
   "outputs": [],
   "source": [
    "class QAClassifier(nn.Module):\n",
    "    def __init__(self,vocab_size:int,hidden_layer_size:int):\n",
    "        super().__init__()\n",
    "        self.embedding_layer=nn.Embedding(vocab_size,hidden_layer_size)\n",
    "        self.rnn=nn.RNN(hidden_layer_size,hidden_layer_size,batch_first=True)\n",
    "        self.fc=nn.Linear(hidden_layer_size,vocab_size)\n",
    "    def forward(self,sequence):\n",
    "        embeddings=self.embedding_layer(sequence)\n",
    "        hidden_states,output=self.rnn(embeddings)\n",
    "        return self.fc(output)"
   ]
  },
  {
   "cell_type": "code",
   "execution_count": 251,
   "id": "2dd82a57-98d6-4907-8244-746eda3391af",
   "metadata": {},
   "outputs": [
    {
     "name": "stdout",
     "output_type": "stream",
     "text": [
      "Loss: 5.885409832000732\n",
      "Loss: 0.6183919310569763\n",
      "Loss: 0.10979039967060089\n",
      "Loss: 0.040421344339847565\n",
      "Loss: 0.020134711638092995\n",
      "Loss: 0.011285902000963688\n",
      "Loss: 0.006717788986861706\n",
      "Loss: 0.004134269431233406\n",
      "Loss: 0.0025895931757986546\n",
      "Loss: 0.0016436452278867364\n"
     ]
    }
   ],
   "source": [
    "classifier=QAClassifier(len(vocab),64)\n",
    "criterion=nn.CrossEntropyLoss()\n",
    "optimizer=torch.optim.AdamW(lr=0.001,params=classifier.parameters())\n",
    "epochs=100\n",
    "for epoch in range(epochs):\n",
    "    total_loss=0\n",
    "    for features,output in data_loader:\n",
    "        predicted_output=classifier(features)\n",
    "        loss=criterion(predicted_output.squeeze(),output.squeeze())\n",
    "        optimizer.zero_grad()\n",
    "        loss.backward()\n",
    "        optimizer.step()\n",
    "        total_loss+=loss\n",
    "    if epoch%10 ==0:\n",
    "        print(f\"Loss: {total_loss/len(data_loader)}\")"
   ]
  },
  {
   "cell_type": "code",
   "execution_count": 259,
   "id": "ddb385f2-9fb9-4334-95f0-008f2bbe06f5",
   "metadata": {},
   "outputs": [
    {
     "data": {
      "text/plain": [
       "tensor(247)"
      ]
     },
     "execution_count": 259,
     "metadata": {},
     "output_type": "execute_result"
    }
   ],
   "source": [
    "torch.argmax(classifier(torch.tensor(preprocess(\"Who wrote 'To Kill a Mockingbird'?\"))))"
   ]
  },
  {
   "cell_type": "code",
   "execution_count": 261,
   "id": "74c764ad-7f0e-4c19-9d0c-6a3682ff0f6d",
   "metadata": {},
   "outputs": [
    {
     "data": {
      "text/plain": [
       "'harper-lee'"
      ]
     },
     "execution_count": 261,
     "metadata": {},
     "output_type": "execute_result"
    }
   ],
   "source": [
    "list(vocab.keys())[247]"
   ]
  },
  {
   "cell_type": "code",
   "execution_count": 262,
   "id": "ac28dbee-2ef8-41fe-a818-76f255959f1a",
   "metadata": {},
   "outputs": [
    {
     "data": {
      "text/plain": [
       "tensor(253)"
      ]
     },
     "execution_count": 262,
     "metadata": {},
     "output_type": "execute_result"
    }
   ],
   "source": [
    "torch.argmax(classifier(torch.tensor(preprocess(\"Which year did World War II end?\"))))"
   ]
  },
  {
   "cell_type": "code",
   "execution_count": 263,
   "id": "031991e4-799a-4409-98c0-a6cc8478e3b5",
   "metadata": {},
   "outputs": [
    {
     "data": {
      "text/plain": [
       "'1945'"
      ]
     },
     "execution_count": 263,
     "metadata": {},
     "output_type": "execute_result"
    }
   ],
   "source": [
    "list(vocab.keys())[253]"
   ]
  },
  {
   "cell_type": "code",
   "execution_count": null,
   "id": "662e746a-9f9d-47f1-992d-dfd283f429f4",
   "metadata": {},
   "outputs": [],
   "source": []
  }
 ],
 "metadata": {
  "kernelspec": {
   "display_name": "Python 3 (ipykernel)",
   "language": "python",
   "name": "python3"
  },
  "language_info": {
   "codemirror_mode": {
    "name": "ipython",
    "version": 3
   },
   "file_extension": ".py",
   "mimetype": "text/x-python",
   "name": "python",
   "nbconvert_exporter": "python",
   "pygments_lexer": "ipython3",
   "version": "3.9.6"
  }
 },
 "nbformat": 4,
 "nbformat_minor": 5
}
